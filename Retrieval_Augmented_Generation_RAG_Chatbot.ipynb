{
 "cells": [
  {
   "cell_type": "markdown",
   "id": "6bed3276",
   "metadata": {},
   "source": [
    "# Expert Knowledge Worker\n",
    "- A question answering agent that is an expert knowledge worker\n",
    "- The agent needs to be accurate and the solution should be low cost.\n",
    "- This project will use RAG (Retrieval Augmented Generation) to ensure our question/answering assistant has high accuracy."
   ]
  },
  {
   "cell_type": "markdown",
   "id": "c1019ea9",
   "metadata": {},
   "source": [
    "# Import Libraries and Environment Set Up"
   ]
  },
  {
   "cell_type": "code",
   "execution_count": null,
   "id": "80391c49",
   "metadata": {},
   "outputs": [],
   "source": [
    "# Import necessary libraries\n",
    "import os  # OS module for file and directory operations\n",
    "import glob  # Glob module for pattern matching file paths\n",
    "from dotenv import load_dotenv  # Load environment variables from a .env file\n",
    "import gradio as gr  # Gradio for building interactive UI components\n",
    "\n",
    "# Imports for LangChain and Chroma\n",
    "from langchain.document_loaders import DirectoryLoader, TextLoader  # Load documents from directories or text files\n",
    "from langchain.text_splitter import CharacterTextSplitter  # Split text into smaller chunks for processing\n",
    "from langchain.schema import Document  # Define the document structure\n",
    "\n",
    "# Import OpenAI and Chroma components for embeddings and chat models\n",
    "from langchain_openai import OpenAIEmbeddings, ChatOpenAI  # OpenAI-based embeddings and chat models\n",
    "from langchain_chroma import Chroma  # Chroma for vector storage and retrieval\n",
    "\n",
    "# Import memory and retrieval chain for conversation management\n",
    "from langchain.memory import ConversationBufferMemory  # Store conversation history\n",
    "from langchain.chains import ConversationalRetrievalChain  # Chain for conversational retrieval\n",
    "from langchain.embeddings import HuggingFaceEmbeddings  # Use HuggingFace embeddings for text representation\n",
    "\n",
    "# Choose a low-cost model and create a vector database name\n",
    "MODEL = \"gpt-4o-mini\"  # Select a cost-effective OpenAI model\n",
    "db_name = \"vector_db\"  # Define the vector database name\n",
    "\n",
    "# Load environment variables from a .env file\n",
    "load_dotenv()  # Automatically loads variables from .env file\n",
    "\n",
    "# Set OpenAI API key from environment variables, providing a default if not found\n",
    "os.environ['OPENAI_API_KEY'] = os.getenv('OPENAI_API_KEY', 'your-key-if-not-using-env')"
   ]
  },
  {
   "cell_type": "markdown",
   "id": "f1f69b7a",
   "metadata": {},
   "source": [
    "# Split Documet into Smaller Chunks"
   ]
  },
  {
   "cell_type": "code",
   "execution_count": null,
   "id": "4f7e5420",
   "metadata": {},
   "outputs": [],
   "source": [
    "# Read in documents using LangChain's loaders\n",
    "# Take everything in all the sub-folders of our knowledge base\n",
    "folders = glob.glob(\"knowledge-base/*\")\n",
    "\n",
    "def add_metadata(doc, doc_type):\n",
    "    \"\"\"Adds document type metadata to a document.\"\"\"\n",
    "    doc.metadata[\"doc_type\"] = doc_type\n",
    "    return doc\n",
    "\n",
    "# Set text loader arguments for encoding detection\n",
    "text_loader_kwargs = {'autodetect_encoding': True}\n",
    "\n",
    "documents = []\n",
    "for folder in folders:\n",
    "    doc_type = os.path.basename(folder)  # Extract document type from folder name\n",
    "    loader = DirectoryLoader(\n",
    "        folder, glob=\"**/*.md\", loader_cls=TextLoader, loader_kwargs=text_loader_kwargs\n",
    "    )  # Load markdown documents from the folder\n",
    "    folder_docs = loader.load()  # Load documents from the directory\n",
    "    documents.extend([add_metadata(doc, doc_type) for doc in folder_docs])  # Add metadata and store documents\n",
    "\n",
    "# Split documents into smaller chunks for better processing\n",
    "text_splitter = CharacterTextSplitter(chunk_size=1000, chunk_overlap=200)\n",
    "chunks = text_splitter.split_documents(documents)\n",
    "\n",
    "# Output basic statistics\n",
    "print(f\"Total number of chunks: {len(chunks)}\")\n",
    "print(f\"Document types found: {set(doc.metadata['doc_type'] for doc in documents)}\")\n"
   ]
  },
  {
   "cell_type": "markdown",
   "id": "a4b056fb",
   "metadata": {},
   "source": [
    "# Embedding"
   ]
  },
  {
   "cell_type": "code",
   "execution_count": null,
   "id": "ed59848f",
   "metadata": {},
   "outputs": [],
   "source": [
    "# Store document chunks in a Vector Database with associated Vector Embeddings\n",
    "# Chroma is a popular open-source vector database based on SQLite\n",
    "\n",
    "embeddings = OpenAIEmbeddings()  # Use OpenAI embeddings\n",
    "\n",
    "# If you prefer free vector embeddings from HuggingFace sentence-transformers,\n",
    "# replace OpenAIEmbeddings() with:\n",
    "# from langchain.embeddings import HuggingFaceEmbeddings\n",
    "# embeddings = HuggingFaceEmbeddings(model_name=\"sentence-transformers/all-MiniLM-L6-v2\")\n",
    "\n",
    "# Delete existing vector database if it already exists\n",
    "if os.path.exists(db_name):\n",
    "    Chroma(persist_directory=db_name, embedding_function=embeddings).delete_collection()\n",
    "\n",
    "# Create and persist vector store\n",
    "vectorstore = Chroma.from_documents(documents=chunks, embedding=embeddings, persist_directory=db_name)\n",
    "\n",
    "# Output vector store statistics\n",
    "print(f\"Vectorstore created with {vectorstore._collection.count()} documents\")"
   ]
  },
  {
   "cell_type": "markdown",
   "id": "7b6b0afd",
   "metadata": {},
   "source": [
    "- Alternatively, switch out Chroma for FAISS (if desired)\n",
    "- FAISS is another efficient vector database\n",
    "- from langchain.vectorstores import FAISS\n",
    "- vectorstore = FAISS.from_documents(chunks, embedding=embeddings)"
   ]
  },
  {
   "cell_type": "code",
   "execution_count": null,
   "id": "c74f201c",
   "metadata": {},
   "outputs": [],
   "source": [
    "# Let's investigate the vectors\n",
    "\n",
    "collection = vectorstore._collection\n",
    "count = collection.count()\n",
    "\n",
    "sample_embedding = collection.get(limit=1, include=[\"embeddings\"])[\"embeddings\"][0]\n",
    "dimensions = len(sample_embedding)\n",
    "print(f\"There are {count:,} vectors with {dimensions:,} dimensions in the vector store\")"
   ]
  },
  {
   "cell_type": "markdown",
   "id": "fbe1f44f",
   "metadata": {},
   "source": [
    "# RAG Using LangChain "
   ]
  },
  {
   "cell_type": "code",
   "execution_count": null,
   "id": "dfa7218e",
   "metadata": {},
   "outputs": [],
   "source": [
    "\n",
    "# create a new Chat with OpenAI\n",
    "llm = ChatOpenAI(temperature=0.7, model_name=MODEL)\n",
    "\n",
    "# Alternative - if you'd like to use Ollama locally, uncomment this line instead\n",
    "# llm = ChatOpenAI(temperature=0.7, model_name='llama3.2', base_url='http://localhost:11434/v1', api_key='ollama')\n",
    "\n",
    "# set up the conversation memory for the chat\n",
    "memory = ConversationBufferMemory(memory_key='chat_history', return_messages=True)\n",
    "\n",
    "# the retriever is an abstraction over the VectorStore that will be used during RAG\n",
    "retriever = vectorstore.as_retriever()\n",
    "\n",
    "# putting it together: set up the conversation chain with the GPT 3.5 LLM, the vector store and memory\n",
    "conversation_chain = ConversationalRetrievalChain.from_llm(llm=llm, retriever=retriever, memory=memory)\n",
    "\n",
    "# set up a new conversation memory for the chat\n",
    "memory = ConversationBufferMemory(memory_key='chat_history', return_messages=True)\n",
    "\n",
    "# putting it together: set up the conversation chain with the GPT 4o-mini LLM, the vector store and memory\n",
    "conversation_chain = ConversationalRetrievalChain.from_llm(llm=llm, retriever=retriever, memory=memory)\n",
    "\n",
    "Now we will bring this up in Gradio using the Chat interface -\n",
    "A quick and easy way to prototype a chat with an LLM\n",
    "\n",
    "# Wrapping that in a function\n",
    "\n",
    "def chat(question, history):\n",
    "    result = conversation_chain.invoke({\"question\": question})\n",
    "    return result[\"answer\"]\n",
    "# Put it in Gradio:\n",
    "\n",
    "view = gr.ChatInterface(chat, type=\"messages\").launch(inbrowser=True)"
   ]
  },
  {
   "cell_type": "markdown",
   "id": "aa02bff9",
   "metadata": {},
   "source": [
    "# Debugging and investigating incorrect answers"
   ]
  },
  {
   "cell_type": "code",
   "execution_count": null,
   "id": "4d672560",
   "metadata": {},
   "outputs": [],
   "source": [
    "from langchain_core.callbacks import StdOutCallbackHandler\n",
    "\n",
    "llm = ChatOpenAI(temperature=0.7, model_name=MODEL)\n",
    "memory = ConversationBufferMemory(memory_key='chat_history', return_messages=True)\n",
    "retriever = vectorstore.as_retriever()\n",
    "\n",
    "conversation_chain = ConversationalRetrievalChain.from_llm(\n",
    "    llm=llm, retriever=retriever, memory=memory, callbacks=[StdOutCallbackHandler()]\n",
    ")\n",
    "\n",
    "query = \"Who received the NFL MVP award in 2019?\"\n",
    "result = conversation_chain.invoke({\"question\": query})\n",
    "answer = result[\"answer\"]\n",
    "print(\"\\nAnswer:\", answer)\n",
    "\n",
    "# Factors that can improve RAG performance:\n",
    "# - Increase or decrease the chunk size\n",
    "# - Increase or decrease the chunk overlap\n",
    "# - Increase the number of relevant contexts retrieved\n",
    "\n",
    "# Adjusting the number of retrieved chunks (k) for better performance\n",
    "retriever = vectorstore.as_retriever(search_kwargs={\"k\": 25})\n",
    "conversation_chain = ConversationalRetrievalChain.from_llm(llm=llm, retriever=retriever, memory=memory)\n",
    "\n",
    "# Define chat function for Gradio UI\n",
    "def chat(question, history):\n",
    "    result = conversation_chain.invoke({\"question\": question})\n",
    "    return result[\"answer\"]\n",
    "\n",
    "# Deploy with Gradio\n",
    "view = gr.ChatInterface(chat, type=\"messages\").launch(inbrowser=True)"
   ]
  },
  {
   "cell_type": "code",
   "execution_count": null,
   "id": "e034edad",
   "metadata": {},
   "outputs": [],
   "source": []
  },
  {
   "cell_type": "code",
   "execution_count": null,
   "id": "2dfcf35b",
   "metadata": {},
   "outputs": [],
   "source": []
  },
  {
   "cell_type": "code",
   "execution_count": null,
   "id": "50c56bf7",
   "metadata": {},
   "outputs": [],
   "source": []
  }
 ],
 "metadata": {
  "kernelspec": {
   "display_name": "Python 3 (ipykernel)",
   "language": "python",
   "name": "python3"
  },
  "language_info": {
   "codemirror_mode": {
    "name": "ipython",
    "version": 3
   },
   "file_extension": ".py",
   "mimetype": "text/x-python",
   "name": "python",
   "nbconvert_exporter": "python",
   "pygments_lexer": "ipython3",
   "version": "3.9.16"
  }
 },
 "nbformat": 4,
 "nbformat_minor": 5
}
